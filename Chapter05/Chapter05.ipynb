{
 "cells": [
  {
   "cell_type": "markdown",
   "id": "47ddfb57-16cc-4aac-a118-fe1cf72b83f5",
   "metadata": {},
   "source": [
    "### The BB84 Algorithm"
   ]
  },
  {
   "cell_type": "code",
   "execution_count": null,
   "id": "becf3d53-00d1-40f5-8118-3fa74993e2f5",
   "metadata": {},
   "outputs": [],
   "source": [
    "import random\n",
    "from qiskit import QuantumCircuit, QuantumRegister, \\\n",
    "    ClassicalRegister, execute\n",
    "from qiskit_ibm_provider import IBMProvider\n",
    "\n",
    "NUMBER_OF_CIRCUITS = 100\n",
    "DOES_EVE_EXIST = False\n",
    "CHECK_MARK = u'\\u2713'"
   ]
  },
  {
   "cell_type": "code",
   "execution_count": null,
   "id": "da6ebbb3-65bd-4663-85e6-880e444159d3",
   "metadata": {},
   "outputs": [],
   "source": [
    "def create_registers(eve_exists):\n",
    "    alice_q = QuantumRegister(1, 'alice_q')\n",
    "    bob_q = QuantumRegister(1, 'bob_q')\n",
    "    bob_c = ClassicalRegister(1, 'bob_c')\n",
    "\n",
    "    if eve_exists:\n",
    "        eve_c = ClassicalRegister(1, 'eve_c')\n",
    "        circ = QuantumCircuit(alice_q, bob_q, bob_c, eve_c)\n",
    "    else:\n",
    "        circ = QuantumCircuit(alice_q, bob_q, bob_c)\n",
    "    return circ"
   ]
  },
  {
   "cell_type": "code",
   "execution_count": null,
   "id": "f9b687bd-ffa2-44e3-85df-a9732ab21557",
   "metadata": {},
   "outputs": [],
   "source": [
    "def setup_alice(circ):\n",
    "    alice_q = circ.qubits[0]\n",
    "\n",
    "    if random.getrandbits(1):\n",
    "        circ.x(alice_q)\n",
    "\n",
    "    if random.getrandbits(1):\n",
    "        circ.h(alice_q)\n",
    "\n",
    "    return circ"
   ]
  },
  {
   "cell_type": "code",
   "execution_count": null,
   "id": "44009e7d-c110-4c99-9627-797c6fa6ea0e",
   "metadata": {},
   "outputs": [],
   "source": [
    "def setup_bob(circ):\n",
    "    bob_q = circ.qubits[1]\n",
    "    bob_c = circ.clbits[0]\n",
    "\n",
    "    if random.getrandbits(1):\n",
    "        circ.h(bob_q)\n",
    "\n",
    "    circ.measure(bob_q, bob_c)\n",
    "    return circ"
   ]
  },
  {
   "cell_type": "code",
   "execution_count": null,
   "id": "f57ae186-e72b-4e82-b66a-7212e6cdfb0d",
   "metadata": {},
   "outputs": [],
   "source": [
    "def setup_eve(circ):\n",
    "    bob_q = circ.qubits[1]\n",
    "    eve_c = circ.clbits[1]\n",
    "\n",
    "    circ.barrier()\n",
    "    circ.measure(bob_q, eve_c)\n",
    "    circ.barrier()\n",
    "    return circ"
   ]
  },
  {
   "cell_type": "code",
   "execution_count": null,
   "id": "a5d504f1-512e-4228-8bb0-fa196c749ecd",
   "metadata": {},
   "outputs": [],
   "source": [
    "def make_new_circuit(eve_exists):\n",
    "    circ = create_registers(eve_exists)\n",
    "    alice_q = circ.qubits[0]\n",
    "    bob_q = circ.qubits[1]\n",
    "    bob_c = circ.clbits[0]\n",
    "\n",
    "    circ = setup_alice(circ)\n",
    "\n",
    "    circ.swap(alice_q, bob_q)\n",
    "\n",
    "    if eve_exists:\n",
    "        circ = setup_eve(circ)\n",
    "\n",
    "    circ = setup_bob(circ)\n",
    "\n",
    "    return circ"
   ]
  },
  {
   "cell_type": "code",
   "execution_count": null,
   "id": "a3e2cb7a-3fe7-480a-bada-6cb5840332f1",
   "metadata": {},
   "outputs": [],
   "source": [
    "def had_agreement(circ):\n",
    "    gate_counts = circ.count_ops()\n",
    "    return not ('h' in gate_counts\n",
    "                and gate_counts['h'] == 1)"
   ]
  },
  {
   "cell_type": "code",
   "execution_count": null,
   "id": "3385a126-d327-473e-b1b1-d31294301def",
   "metadata": {},
   "outputs": [],
   "source": [
    "def alice_bit_value(circ):\n",
    "    return 1 if 'x' in circ.count_ops() else 0"
   ]
  },
  {
   "cell_type": "code",
   "execution_count": null,
   "id": "adc059b7-da44-4d5c-bb5a-a1c4d3ade51e",
   "metadata": {},
   "outputs": [],
   "source": [
    "def bob_bit_value(circ, memory):\n",
    "    return memory[0][0]"
   ]
  },
  {
   "cell_type": "code",
   "execution_count": null,
   "id": "02330d9d-9513-4fe1-9fdb-f7efd59df2e3",
   "metadata": {},
   "outputs": [],
   "source": [
    "def bit_value_agreement(circ, result):\n",
    "    memory = result.get_memory(circ)\n",
    "    return alice_bit_value(circ) == int(\n",
    "        bob_bit_value(circ, memory))"
   ]
  },
  {
   "cell_type": "code",
   "execution_count": null,
   "id": "fc41ca03-0cb7-43b7-a925-2df4ca5c1d5d",
   "metadata": {},
   "outputs": [],
   "source": [
    "def print_alice_bits(circuits):\n",
    "    print('alice bits: ', end='')\n",
    "    for circ in circuits:\n",
    "        bit = 1 if 'x' in circ.count_ops() else 0\n",
    "        print(bit, end='')\n",
    "    print('')"
   ]
  },
  {
   "cell_type": "code",
   "execution_count": null,
   "id": "eab1c98a-5774-4b3a-af36-f799fc111d0c",
   "metadata": {},
   "outputs": [],
   "source": [
    "def print_bob_bits(circuits, result):\n",
    "    print('bob bits  : ', end='')\n",
    "    for circ in circuits:\n",
    "        memory = result.get_memory(circ)\n",
    "        print(bob_bit_value(circ, memory), end='')\n",
    "    print('')"
   ]
  },
  {
   "cell_type": "code",
   "execution_count": null,
   "id": "93deca29-7350-4708-adb1-f932727afa24",
   "metadata": {},
   "outputs": [],
   "source": [
    "def create_circuits(how_many, does_eve_exist):\n",
    "    circuits = []\n",
    "    for i in range(how_many):\n",
    "        circuits.append(make_new_circuit(does_eve_exist)) \n",
    "    return circuits"
   ]
  },
  {
   "cell_type": "code",
   "execution_count": null,
   "id": "64829444-8a21-401a-ae03-106a4582192a",
   "metadata": {},
   "outputs": [],
   "source": [
    "def run_the_job(circuits):\n",
    "    provider = IBMProvider() \n",
    "    device = provider.get_backend('ibmq_qasm_simulator')\n",
    "    job = execute(circuits, backend=device, shots=1,\n",
    "                  memory=True)\n",
    "    return job.result()"
   ]
  },
  {
   "cell_type": "code",
   "execution_count": null,
   "id": "5ac9c2ac-cc31-4dd6-8d92-5912575dd440",
   "metadata": {},
   "outputs": [],
   "source": [
    "def print_had_agreements(circuits):\n",
    "    number_of_agreements = 0\n",
    "    print('hads agree? ', end='')\n",
    "    for circ in circuits:\n",
    "        if had_agreement(circ):\n",
    "            print(CHECK_MARK, end='')\n",
    "            number_of_agreements += 1\n",
    "        else:\n",
    "            print(' ', end='')\n",
    "    print('')\n",
    "    return number_of_agreements"
   ]
  },
  {
   "cell_type": "code",
   "execution_count": null,
   "id": "a0bc11ea-eea4-4fd5-92d9-84e0f2ba5702",
   "metadata": {},
   "outputs": [],
   "source": [
    "def print_bit_agreements(circuits, result,\n",
    "                         number_of_agreements):\n",
    "    number_tested = 0\n",
    "    is_eve_detected = False\n",
    "    i = 0\n",
    "\n",
    "    print('bits agree? ', end='')\n",
    "    while number_tested < number_of_agreements // 2:\n",
    "        if had_agreement(circuits[i]):\n",
    "            if bit_value_agreement(circuits[i], result):\n",
    "                print(CHECK_MARK, end='')\n",
    "                number_tested += 1\n",
    "            else:\n",
    "                is_eve_detected = True\n",
    "                print('X')\n",
    "                break\n",
    "        else:\n",
    "            print(' ', end='')\n",
    "        i += 1\n",
    "\n",
    "    print()\n",
    "\n",
    "    return i, is_eve_detected"
   ]
  },
  {
   "cell_type": "code",
   "execution_count": null,
   "id": "7868e098-b055-48c9-84de-c057732b77c4",
   "metadata": {},
   "outputs": [],
   "source": [
    "def print_key(circuits, number_of_circuits,\n",
    "              how_many_for_testing):\n",
    "    print('key       :', end='')\n",
    "    for i in range(how_many_for_testing + 1):\n",
    "        print(' ', end='')\n",
    "    for i in range(i, NUMBER_OF_CIRCUITS):\n",
    "        if had_agreement(circuits[i]):\n",
    "            print(alice_bit_value(circuits[i]), end='')\n",
    "        else:\n",
    "            print(' ', end='')"
   ]
  },
  {
   "cell_type": "code",
   "execution_count": null,
   "id": "44dec1a5-58a0-4e3c-979a-90434707f8e7",
   "metadata": {},
   "outputs": [],
   "source": [
    "circuits = create_circuits(NUMBER_OF_CIRCUITS,\n",
    "                           DOES_EVE_EXIST)             # 1\n",
    "\n",
    "result = run_the_job(circuits)                         # 2\n",
    "\n",
    "print_alice_bits(circuits)                             # 3\n",
    "\n",
    "print_bob_bits(circuits, result)                       # 4\n",
    "\n",
    "number_of_agreements = print_had_agreements(circuits)  # 5\n",
    "\n",
    "how_many_for_testing, is_eve_detected = \\\n",
    "    print_bit_agreements(circuits, result,\n",
    "                         number_of_agreements)         # 6\n",
    "\n",
    "if is_eve_detected:                                    # 7\n",
    "    print('INTRUDER ALERT!')\n",
    "else:\n",
    "    print_key (circuits, NUMBER_OF_CIRCUITS,\n",
    "               how_many_for_testing)    "
   ]
  },
  {
   "cell_type": "markdown",
   "id": "7ca0ea5d-3fb4-4e65-be6f-994c1ea093d9",
   "metadata": {},
   "source": [
    "### Printing circuit data"
   ]
  },
  {
   "cell_type": "code",
   "execution_count": null,
   "id": "677cc6d1-fa51-4d91-b8bc-2b63158b471d",
   "metadata": {},
   "outputs": [],
   "source": [
    "print(circuits[0].data)"
   ]
  },
  {
   "cell_type": "markdown",
   "id": "cdb1d202-22dd-4eb5-9938-c31e1272717e",
   "metadata": {},
   "source": [
    "### Exercise 6"
   ]
  },
  {
   "cell_type": "code",
   "execution_count": null,
   "id": "268c203a-5ac6-4deb-9c1a-90ad96e0d745",
   "metadata": {},
   "outputs": [],
   "source": [
    "from qiskit import QuantumRegister, QuantumCircuit\n",
    "from math import pi\n",
    "import random\n",
    "alice_q = QuantumRegister(1, 'alice_q')\n",
    "bob_q = QuantumRegister(1, 'bob_q')\n",
    "circ = QuantumCircuit(alice_q, bob_q)\n",
    "circ.ry(pi/(random.uniform(2, 20)), alice_q[0])\n",
    "circ.cnot(0, 1)\n",
    "circ.measure_all()\n",
    "display(circ.draw('latex'))"
   ]
  },
  {
   "cell_type": "markdown",
   "id": "39ef7201-0f65-4bdd-b2d7-bb36d981e1a2",
   "metadata": {},
   "source": [
    "### Exercise 7"
   ]
  },
  {
   "cell_type": "code",
   "execution_count": null,
   "id": "5ae20946-1e88-4a05-aa10-45dde3eabcc4",
   "metadata": {},
   "outputs": [],
   "source": [
    "def setup_eve(circ):\n",
    "    bob_q = circ.qubits[1]\n",
    "    eve_c = circ.clbits[1]\n",
    "    \n",
    "    has_had = random.getrandbits(1)\n",
    "    circ.barrier()\n",
    "    if has_had:\n",
    "        circ.h(bob_q)\n",
    "    circ.measure(bob_q, eve_c)\n",
    "    if has_had:\n",
    "        circ.h(bob_q)\n",
    "    circ.barrier()\n",
    "    return circ\n",
    "\n",
    "def had_agreement(circ):\n",
    "    gate_counts = circ.count_ops()\n",
    "    return not ('h' in gate_counts and gate_counts[\n",
    "        'h'] % 2 == 1)"
   ]
  }
 ],
 "metadata": {
  "kernelspec": {
   "display_name": "Python 3 (ipykernel)",
   "language": "python",
   "name": "python3"
  },
  "language_info": {
   "codemirror_mode": {
    "name": "ipython",
    "version": 3
   },
   "file_extension": ".py",
   "mimetype": "text/x-python",
   "name": "python",
   "nbconvert_exporter": "python",
   "pygments_lexer": "ipython3",
   "version": "3.10.8"
  },
  "widgets": {
   "application/vnd.jupyter.widget-state+json": {
    "state": {},
    "version_major": 2,
    "version_minor": 0
   }
  }
 },
 "nbformat": 4,
 "nbformat_minor": 5
}
